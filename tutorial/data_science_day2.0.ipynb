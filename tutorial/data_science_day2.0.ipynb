{
 "cells": [
  {
   "cell_type": "markdown",
   "metadata": {},
   "source": [
    "## types of Data:"
   ]
  },
  {
   "cell_type": "markdown",
   "metadata": {},
   "source": [
    "# numerical:-\n",
    "    Represent quantative measurement\n",
    "    1. decrete Data:\n",
    "        intiger based, ex count like\n",
    "    2. continuous Data:\n",
    "         contains infinite number of possible values.\n",
    "            \n",
    "# categorical:\n",
    "    qualitative datat , it has no inherit mathematical meaning\n",
    "    \n",
    "    \n",
    "# ordinal:\n",
    "    A mixture of numerical and categorical data\n",
    "    categorical data with mathematical meaning(ex rating stars)\n",
    "    \n",
    "    "
   ]
  },
  {
   "cell_type": "markdown",
   "metadata": {},
   "source": [
    "# Mean: \n",
    "    average\n",
    "    sum/num of samples\n",
    "    1,2,4,2,3\n",
    "    1+2+4+2+3/5 = 12/5\n",
    "# Median:\n",
    "    sorting all the values and getting the one ad mid\n",
    "    \n",
    "    1,2,5,0,3,4,5\n",
    "    after sort:\n",
    "    0,1,2,3,4,5,5\n",
    "    median = 3\n",
    "    \n",
    "# Mode:\n",
    "    most common value in the dataset\n",
    "    \n",
    "\n",
    "    \n",
    "    \n",
    "    \n",
    "    "
   ]
  },
  {
   "cell_type": "code",
   "execution_count": 2,
   "metadata": {},
   "outputs": [
    {
     "data": {
      "text/plain": [
       "30430.741197453808"
      ]
     },
     "execution_count": 2,
     "metadata": {},
     "output_type": "execute_result"
    }
   ],
   "source": [
    "import numpy as np\n",
    "incomes = np.random.normal(30000, 40000, 20000)\n",
    "np.mean(incomes)"
   ]
  },
  {
   "cell_type": "code",
   "execution_count": 7,
   "metadata": {},
   "outputs": [
    {
     "data": {
      "text/plain": [
       "<function matplotlib.pyplot.show(*args, **kw)>"
      ]
     },
     "execution_count": 7,
     "metadata": {},
     "output_type": "execute_result"
    },
    {
     "data": {
      "image/png": "[encoded data removed]",
      "text/plain": [
       "<Figure size 432x288 with 1 Axes>"
      ]
     },
     "metadata": {
      "needs_background": "light"
     },
     "output_type": "display_data"
    }
   ],
   "source": [
    "%matplotlib inline\n",
    "import matplotlib.pyplot as plt\n",
    "plt.hist(incomes,10)\n",
    "plt.show"
   ]
  },
  {
   "cell_type": "code",
   "execution_count": 8,
   "metadata": {},
   "outputs": [
    {
     "data": {
      "text/plain": [
       "30731.6650534952"
      ]
     },
     "execution_count": 8,
     "metadata": {},
     "output_type": "execute_result"
    }
   ],
   "source": [
    "np.median(incomes)"
   ]
  },
  {
   "cell_type": "code",
   "execution_count": 10,
   "metadata": {},
   "outputs": [
    {
     "data": {
      "text/plain": [
       "30733.923286086432"
      ]
     },
     "execution_count": 10,
     "metadata": {},
     "output_type": "execute_result"
    }
   ],
   "source": [
    "incomes = np.append(incomes, 10000000000)\n",
    "np.median(incomes)"
   ]
  },
  {
   "cell_type": "code",
   "execution_count": 11,
   "metadata": {},
   "outputs": [
    {
     "data": {
      "text/plain": [
       "1030327.708426611"
      ]
     },
     "execution_count": 11,
     "metadata": {},
     "output_type": "execute_result"
    }
   ],
   "source": [
    "np.mean(incomes)"
   ]
  },
  {
   "cell_type": "markdown",
   "metadata": {},
   "source": [
    "# mode:-\n",
    "    "
   ]
  },
  {
   "cell_type": "code",
   "execution_count": 14,
   "metadata": {},
   "outputs": [
    {
     "data": {
      "text/plain": [
       "array([23, 60, 74, 60, 52, 63, 66, 65, 68, 21, 71, 36, 56, 18, 81, 85, 50,\n",
       "       81, 24, 25, 41, 34, 41, 20, 38, 66, 27, 63, 74, 25, 28, 73, 87, 69,\n",
       "       37, 73, 56, 80, 71, 39, 79, 18, 89, 43, 46, 75, 26, 60, 21, 21, 49,\n",
       "       38, 57, 85, 58, 55, 29, 82, 63, 32, 68, 80, 51, 86, 20, 71, 83, 25,\n",
       "       39, 70, 68, 80, 53, 78, 35, 35, 87, 64, 79, 21, 73, 88, 41, 53, 55,\n",
       "       88, 34, 50, 75, 39, 78, 20, 71, 49, 36, 81, 46, 26, 41, 35])"
      ]
     },
     "execution_count": 14,
     "metadata": {},
     "output_type": "execute_result"
    }
   ],
   "source": [
    "ages = np.random.randint(18,high=90, size= 100)\n",
    "ages"
   ]
  },
  {
   "cell_type": "code",
   "execution_count": 20,
   "metadata": {},
   "outputs": [
    {
     "data": {
      "text/plain": [
       "ModeResult(mode=array([21]), count=array([4]))"
      ]
     },
     "execution_count": 20,
     "metadata": {},
     "output_type": "execute_result"
    }
   ],
   "source": [
    "from scipy import stats\n",
    "stats.mode(ages)"
   ]
  }
 ],
 "metadata": {
  "kernelspec": {
   "display_name": "Python 3",
   "language": "python",
   "name": "python3"
  },
  "language_info": {
   "codemirror_mode": {
    "name": "ipython",
    "version": 3
   },
   "file_extension": ".py",
   "mimetype": "text/x-python",
   "name": "python",
   "nbconvert_exporter": "python",
   "pygments_lexer": "ipython3",
   "version": "3.7.6"
  }
 },
 "nbformat": 4,
 "nbformat_minor": 4
}
